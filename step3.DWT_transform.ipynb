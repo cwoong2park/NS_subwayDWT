{
 "cells": [
  {
   "cell_type": "code",
   "execution_count": 1,
   "metadata": {},
   "outputs": [],
   "source": [
    "import pandas as pd\n",
    "from datetime import datetime\n",
    "import numpy as np\n",
    "import matplotlib.pyplot as plt\n",
    "import random\n",
    "from sklearn.preprocessing import StandardScaler\n",
    "import pywt"
   ]
  },
  {
   "cell_type": "code",
   "execution_count": 2,
   "metadata": {},
   "outputs": [
    {
     "data": {
      "text/html": [
       "<div>\n",
       "<style scoped>\n",
       "    .dataframe tbody tr th:only-of-type {\n",
       "        vertical-align: middle;\n",
       "    }\n",
       "\n",
       "    .dataframe tbody tr th {\n",
       "        vertical-align: top;\n",
       "    }\n",
       "\n",
       "    .dataframe thead th {\n",
       "        text-align: right;\n",
       "    }\n",
       "</style>\n",
       "<table border=\"1\" class=\"dataframe\">\n",
       "  <thead>\n",
       "    <tr style=\"text-align: right;\">\n",
       "      <th></th>\n",
       "      <th>index</th>\n",
       "      <th>id</th>\n",
       "      <th>name</th>\n",
       "      <th>weekend</th>\n",
       "      <th>hacha</th>\n",
       "      <th>max_ride</th>\n",
       "      <th>min_ride</th>\n",
       "      <th>pattern</th>\n",
       "    </tr>\n",
       "  </thead>\n",
       "  <tbody>\n",
       "    <tr>\n",
       "      <th>0</th>\n",
       "      <td>0</td>\n",
       "      <td>6</td>\n",
       "      <td>가락시장</td>\n",
       "      <td>0</td>\n",
       "      <td>0</td>\n",
       "      <td>2352.0</td>\n",
       "      <td>63.4</td>\n",
       "      <td>[0.08485537009525475, 0.2041422703836407, 0.64...</td>\n",
       "    </tr>\n",
       "    <tr>\n",
       "      <th>1</th>\n",
       "      <td>1</td>\n",
       "      <td>7</td>\n",
       "      <td>송파</td>\n",
       "      <td>0</td>\n",
       "      <td>0</td>\n",
       "      <td>1710.6</td>\n",
       "      <td>12.0</td>\n",
       "      <td>[0.07229483103732487, 0.24137525020605205, 0.8...</td>\n",
       "    </tr>\n",
       "    <tr>\n",
       "      <th>2</th>\n",
       "      <td>2</td>\n",
       "      <td>8</td>\n",
       "      <td>문정</td>\n",
       "      <td>0</td>\n",
       "      <td>0</td>\n",
       "      <td>5700.4</td>\n",
       "      <td>53.8</td>\n",
       "      <td>[0.0076860411575107165, 0.052385506322388704, ...</td>\n",
       "    </tr>\n",
       "  </tbody>\n",
       "</table>\n",
       "</div>"
      ],
      "text/plain": [
       "   index  id  name  weekend  hacha  max_ride  min_ride  \\\n",
       "0      0   6  가락시장        0      0    2352.0      63.4   \n",
       "1      1   7    송파        0      0    1710.6      12.0   \n",
       "2      2   8    문정        0      0    5700.4      53.8   \n",
       "\n",
       "                                             pattern  \n",
       "0  [0.08485537009525475, 0.2041422703836407, 0.64...  \n",
       "1  [0.07229483103732487, 0.24137525020605205, 0.8...  \n",
       "2  [0.0076860411575107165, 0.052385506322388704, ...  "
      ]
     },
     "execution_count": 2,
     "metadata": {},
     "output_type": "execute_result"
    }
   ],
   "source": [
    "data_y = pd.read_csv('../Data/raw_y.csv', index_col = 0)\n",
    "data_y.head(3)"
   ]
  },
  {
   "cell_type": "code",
   "execution_count": 3,
   "metadata": {},
   "outputs": [
    {
     "data": {
      "text/plain": [
       "{'haar': 140.0370253716727,\n",
       " 'db1': 140.0370253716727,\n",
       " 'db2': 83.61489199837081,\n",
       " 'db4': 100.64460033595472,\n",
       " 'sym2': 83.61489199831689,\n",
       " 'sym3': 84.02191353355829,\n",
       " 'sym4': 113.61357282336003,\n",
       " 'coif1': 127.75682019050238,\n",
       " 'coif2': 117.24253037741455,\n",
       " 'bior1.1': 140.0370253716727,\n",
       " 'bior1.3': 141.83045032899875}"
      ]
     },
     "execution_count": 3,
     "metadata": {},
     "output_type": "execute_result"
    }
   ],
   "source": [
    "# DWT Transforming Test\n",
    "wFamilies = ['haar', 'db1', 'db2', 'db4', 'sym2', 'sym3', 'sym4', 'coif1', 'coif2', 'bior1.1', 'bior1.3']\n",
    "diffs = {}\n",
    "for w in wFamilies:\n",
    "    diffs[w] = 0\n",
    "\n",
    "def str_to_arr(x):\n",
    "    return np.array([float(i) for i in x[1:-1].split(',')])\n",
    "\n",
    "for k, v in data_y.iterrows():\n",
    "    pattern = str_to_arr(v['pattern'])\n",
    "    for waveform in wFamilies:\n",
    "        w = pywt.Wavelet(waveform)\n",
    "        cA, cD = pywt.dwt(pattern, wavelet= w)\n",
    "        recon0 = pywt.idwt(cA, cD, wavelet = w)\n",
    "        recon1 = pywt.idwt(cA, None, wavelet = w)\n",
    "        diff = np.abs(recon0 - recon1)\n",
    "        sum_dff = np.sum(diff) #Get difference bewteen original wave and reconstructed signal with only cA\n",
    "        sum_total = np.sum(recon0)\n",
    "        temp = diffs[waveform]\n",
    "        diffs[waveform] = temp + sum_dff/sum_total\n",
    "diffs"
   ]
  },
  {
   "cell_type": "code",
   "execution_count": 19,
   "metadata": {},
   "outputs": [
    {
     "data": {
      "text/plain": [
       "12"
      ]
     },
     "execution_count": 19,
     "metadata": {},
     "output_type": "execute_result"
    }
   ],
   "source": [
    "len(cA)"
   ]
  },
  {
   "cell_type": "code",
   "execution_count": 15,
   "metadata": {},
   "outputs": [
    {
     "data": {
      "image/png": "[encoded data removed]",
      "text/plain": [
       "<Figure size 432x288 with 1 Axes>"
      ]
     },
     "metadata": {
      "needs_background": "light"
     },
     "output_type": "display_data"
    }
   ],
   "source": [
    "w = pywt.Wavelet('db2')\n",
    "\n",
    "for k, v in data_y[:1].iterrows():\n",
    "    pattern = str_to_arr(v['pattern'])\n",
    "    #w = pywt.Wavelet(waveform)\n",
    "    cA, cD = pywt.dwt(pattern, wavelet= w)\n",
    "    recon0 = pywt.idwt(cA, cD, wavelet = w)\n",
    "    recon1 = pywt.idwt(cA, None, wavelet = w)\n",
    "    plt.plot(pattern, color = 'red')\n",
    "    plt.plot(recon0, color = 'black')\n",
    "    plt.plot(recon1, color = 'blue')\n",
    "plt.show()"
   ]
  },
  {
   "cell_type": "code",
   "execution_count": 20,
   "metadata": {},
   "outputs": [],
   "source": [
    "for k, v in data_y.iterrows():\n",
    "    pattern = str_to_arr(v['pattern'])\n",
    "    w = pywt.Wavelet('db2')\n",
    "    cA, cD = pywt.dwt(pattern, wavelet= w)\n",
    "    data_y.at[k, 'cA'] = str(cA)\n",
    "    data_y.at[k, 'cD'] = str(cD)\n",
    "data_y.to_csv('../Data/train_y.csv')"
   ]
  },
  {
   "cell_type": "code",
   "execution_count": null,
   "metadata": {},
   "outputs": [],
   "source": []
  }
 ],
 "metadata": {
  "kernelspec": {
   "display_name": "base",
   "language": "python",
   "name": "python3"
  },
  "language_info": {
   "codemirror_mode": {
    "name": "ipython",
    "version": 3
   },
   "file_extension": ".py",
   "mimetype": "text/x-python",
   "name": "python",
   "nbconvert_exporter": "python",
   "pygments_lexer": "ipython3",
   "version": "3.9.12"
  }
 },
 "nbformat": 4,
 "nbformat_minor": 2
}
